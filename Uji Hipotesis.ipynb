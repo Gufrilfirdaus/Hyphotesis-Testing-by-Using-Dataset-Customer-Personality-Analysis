{
  "cells": [
    {
      "cell_type": "code",
      "execution_count": null,
      "metadata": {
        "colab": {
          "base_uri": "https://localhost:8080/"
        },
        "id": "3z9ve4Z1lzU9",
        "outputId": "65cbf789-734c-4f4f-e413-381755824c3e"
      },
      "outputs": [
        {
          "name": "stdout",
          "output_type": "stream",
          "text": [
            "Collecting pingouin\n",
            "  Downloading pingouin-0.5.5-py3-none-any.whl.metadata (19 kB)\n",
            "Requirement already satisfied: matplotlib in /usr/local/lib/python3.10/dist-packages (from pingouin) (3.8.0)\n",
            "Requirement already satisfied: numpy in /usr/local/lib/python3.10/dist-packages (from pingouin) (1.26.4)\n",
            "Requirement already satisfied: pandas>=1.5 in /usr/local/lib/python3.10/dist-packages (from pingouin) (2.2.2)\n",
            "Collecting pandas-flavor (from pingouin)\n",
            "  Downloading pandas_flavor-0.6.0-py3-none-any.whl.metadata (6.3 kB)\n",
            "Requirement already satisfied: scikit-learn>=1.2 in /usr/local/lib/python3.10/dist-packages (from pingouin) (1.5.2)\n",
            "Requirement already satisfied: scipy in /usr/local/lib/python3.10/dist-packages (from pingouin) (1.13.1)\n",
            "Requirement already satisfied: seaborn in /usr/local/lib/python3.10/dist-packages (from pingouin) (0.13.2)\n",
            "Requirement already satisfied: statsmodels in /usr/local/lib/python3.10/dist-packages (from pingouin) (0.14.4)\n",
            "Requirement already satisfied: tabulate in /usr/local/lib/python3.10/dist-packages (from pingouin) (0.9.0)\n",
            "Requirement already satisfied: python-dateutil>=2.8.2 in /usr/local/lib/python3.10/dist-packages (from pandas>=1.5->pingouin) (2.8.2)\n",
            "Requirement already satisfied: pytz>=2020.1 in /usr/local/lib/python3.10/dist-packages (from pandas>=1.5->pingouin) (2024.2)\n",
            "Requirement already satisfied: tzdata>=2022.7 in /usr/local/lib/python3.10/dist-packages (from pandas>=1.5->pingouin) (2024.2)\n",
            "Requirement already satisfied: joblib>=1.2.0 in /usr/local/lib/python3.10/dist-packages (from scikit-learn>=1.2->pingouin) (1.4.2)\n",
            "Requirement already satisfied: threadpoolctl>=3.1.0 in /usr/local/lib/python3.10/dist-packages (from scikit-learn>=1.2->pingouin) (3.5.0)\n",
            "Requirement already satisfied: contourpy>=1.0.1 in /usr/local/lib/python3.10/dist-packages (from matplotlib->pingouin) (1.3.1)\n",
            "Requirement already satisfied: cycler>=0.10 in /usr/local/lib/python3.10/dist-packages (from matplotlib->pingouin) (0.12.1)\n",
            "Requirement already satisfied: fonttools>=4.22.0 in /usr/local/lib/python3.10/dist-packages (from matplotlib->pingouin) (4.55.1)\n",
            "Requirement already satisfied: kiwisolver>=1.0.1 in /usr/local/lib/python3.10/dist-packages (from matplotlib->pingouin) (1.4.7)\n",
            "Requirement already satisfied: packaging>=20.0 in /usr/local/lib/python3.10/dist-packages (from matplotlib->pingouin) (24.2)\n",
            "Requirement already satisfied: pillow>=6.2.0 in /usr/local/lib/python3.10/dist-packages (from matplotlib->pingouin) (11.0.0)\n",
            "Requirement already satisfied: pyparsing>=2.3.1 in /usr/local/lib/python3.10/dist-packages (from matplotlib->pingouin) (3.2.0)\n",
            "Requirement already satisfied: xarray in /usr/local/lib/python3.10/dist-packages (from pandas-flavor->pingouin) (2024.10.0)\n",
            "Requirement already satisfied: patsy>=0.5.6 in /usr/local/lib/python3.10/dist-packages (from statsmodels->pingouin) (1.0.1)\n",
            "Requirement already satisfied: six>=1.5 in /usr/local/lib/python3.10/dist-packages (from python-dateutil>=2.8.2->pandas>=1.5->pingouin) (1.16.0)\n",
            "Downloading pingouin-0.5.5-py3-none-any.whl (204 kB)\n",
            "\u001b[2K   \u001b[90m━━━━━━━━━━━━━━━━━━━━━━━━━━━━━━━━━━━━━━━━\u001b[0m \u001b[32m204.4/204.4 kB\u001b[0m \u001b[31m7.9 MB/s\u001b[0m eta \u001b[36m0:00:00\u001b[0m\n",
            "\u001b[?25hDownloading pandas_flavor-0.6.0-py3-none-any.whl (7.2 kB)\n",
            "Installing collected packages: pandas-flavor, pingouin\n",
            "Successfully installed pandas-flavor-0.6.0 pingouin-0.5.5\n"
          ]
        }
      ],
      "source": [
        "import pandas as pd\n",
        "import numpy as np\n",
        "import matplotlib.pyplot as plt\n",
        "import seaborn as sns\n",
        "from scipy import stats\n",
        "!pip install pingouin\n",
        "import pingouin as pg\n",
        "from statsmodels.stats.weightstats import ttest_ind\n",
        "from statsmodels.stats.weightstats import ztest\n",
        "from scipy.stats import f_oneway"
      ]
    },
    {
      "cell_type": "code",
      "execution_count": null,
      "metadata": {
        "colab": {
          "base_uri": "https://localhost:8080/",
          "height": 256
        },
        "id": "RYI7BcT2GYsk",
        "outputId": "23c37d82-ce64-452a-c1bf-4625ed6237f6"
      },
      "outputs": [
        {
          "data": {
            "application/vnd.google.colaboratory.intrinsic+json": {
              "type": "dataframe",
              "variable_name": "df"
            },
            "text/html": [
              "\n",
              "  <div id=\"df-dff03415-c2a8-4062-8f76-dc90eb00fa34\" class=\"colab-df-container\">\n",
              "    <div>\n",
              "<style scoped>\n",
              "    .dataframe tbody tr th:only-of-type {\n",
              "        vertical-align: middle;\n",
              "    }\n",
              "\n",
              "    .dataframe tbody tr th {\n",
              "        vertical-align: top;\n",
              "    }\n",
              "\n",
              "    .dataframe thead th {\n",
              "        text-align: right;\n",
              "    }\n",
              "</style>\n",
              "<table border=\"1\" class=\"dataframe\">\n",
              "  <thead>\n",
              "    <tr style=\"text-align: right;\">\n",
              "      <th></th>\n",
              "      <th>ID</th>\n",
              "      <th>Year_Birth</th>\n",
              "      <th>Education</th>\n",
              "      <th>Marital_Status</th>\n",
              "      <th>Income</th>\n",
              "      <th>Kidhome</th>\n",
              "      <th>Teenhome</th>\n",
              "      <th>Dt_Customer</th>\n",
              "      <th>Recency</th>\n",
              "      <th>MntWines</th>\n",
              "      <th>...</th>\n",
              "      <th>NumWebVisitsMonth</th>\n",
              "      <th>AcceptedCmp3</th>\n",
              "      <th>AcceptedCmp4</th>\n",
              "      <th>AcceptedCmp5</th>\n",
              "      <th>AcceptedCmp1</th>\n",
              "      <th>AcceptedCmp2</th>\n",
              "      <th>Complain</th>\n",
              "      <th>Z_CostContact</th>\n",
              "      <th>Z_Revenue</th>\n",
              "      <th>Response</th>\n",
              "    </tr>\n",
              "  </thead>\n",
              "  <tbody>\n",
              "    <tr>\n",
              "      <th>0</th>\n",
              "      <td>5524</td>\n",
              "      <td>1957</td>\n",
              "      <td>Graduation</td>\n",
              "      <td>Single</td>\n",
              "      <td>58138.0</td>\n",
              "      <td>0</td>\n",
              "      <td>0</td>\n",
              "      <td>04-09-2012</td>\n",
              "      <td>58</td>\n",
              "      <td>635</td>\n",
              "      <td>...</td>\n",
              "      <td>7</td>\n",
              "      <td>0</td>\n",
              "      <td>0</td>\n",
              "      <td>0</td>\n",
              "      <td>0</td>\n",
              "      <td>0</td>\n",
              "      <td>0</td>\n",
              "      <td>3</td>\n",
              "      <td>11</td>\n",
              "      <td>1</td>\n",
              "    </tr>\n",
              "    <tr>\n",
              "      <th>1</th>\n",
              "      <td>2174</td>\n",
              "      <td>1954</td>\n",
              "      <td>Graduation</td>\n",
              "      <td>Single</td>\n",
              "      <td>46344.0</td>\n",
              "      <td>1</td>\n",
              "      <td>1</td>\n",
              "      <td>08-03-2014</td>\n",
              "      <td>38</td>\n",
              "      <td>11</td>\n",
              "      <td>...</td>\n",
              "      <td>5</td>\n",
              "      <td>0</td>\n",
              "      <td>0</td>\n",
              "      <td>0</td>\n",
              "      <td>0</td>\n",
              "      <td>0</td>\n",
              "      <td>0</td>\n",
              "      <td>3</td>\n",
              "      <td>11</td>\n",
              "      <td>0</td>\n",
              "    </tr>\n",
              "    <tr>\n",
              "      <th>2</th>\n",
              "      <td>4141</td>\n",
              "      <td>1965</td>\n",
              "      <td>Graduation</td>\n",
              "      <td>Together</td>\n",
              "      <td>71613.0</td>\n",
              "      <td>0</td>\n",
              "      <td>0</td>\n",
              "      <td>21-08-2013</td>\n",
              "      <td>26</td>\n",
              "      <td>426</td>\n",
              "      <td>...</td>\n",
              "      <td>4</td>\n",
              "      <td>0</td>\n",
              "      <td>0</td>\n",
              "      <td>0</td>\n",
              "      <td>0</td>\n",
              "      <td>0</td>\n",
              "      <td>0</td>\n",
              "      <td>3</td>\n",
              "      <td>11</td>\n",
              "      <td>0</td>\n",
              "    </tr>\n",
              "    <tr>\n",
              "      <th>3</th>\n",
              "      <td>6182</td>\n",
              "      <td>1984</td>\n",
              "      <td>Graduation</td>\n",
              "      <td>Together</td>\n",
              "      <td>26646.0</td>\n",
              "      <td>1</td>\n",
              "      <td>0</td>\n",
              "      <td>10-02-2014</td>\n",
              "      <td>26</td>\n",
              "      <td>11</td>\n",
              "      <td>...</td>\n",
              "      <td>6</td>\n",
              "      <td>0</td>\n",
              "      <td>0</td>\n",
              "      <td>0</td>\n",
              "      <td>0</td>\n",
              "      <td>0</td>\n",
              "      <td>0</td>\n",
              "      <td>3</td>\n",
              "      <td>11</td>\n",
              "      <td>0</td>\n",
              "    </tr>\n",
              "    <tr>\n",
              "      <th>4</th>\n",
              "      <td>5324</td>\n",
              "      <td>1981</td>\n",
              "      <td>PhD</td>\n",
              "      <td>Married</td>\n",
              "      <td>58293.0</td>\n",
              "      <td>1</td>\n",
              "      <td>0</td>\n",
              "      <td>19-01-2014</td>\n",
              "      <td>94</td>\n",
              "      <td>173</td>\n",
              "      <td>...</td>\n",
              "      <td>5</td>\n",
              "      <td>0</td>\n",
              "      <td>0</td>\n",
              "      <td>0</td>\n",
              "      <td>0</td>\n",
              "      <td>0</td>\n",
              "      <td>0</td>\n",
              "      <td>3</td>\n",
              "      <td>11</td>\n",
              "      <td>0</td>\n",
              "    </tr>\n",
              "  </tbody>\n",
              "</table>\n",
              "<p>5 rows × 29 columns</p>\n",
              "</div>\n",
              "    <div class=\"colab-df-buttons\">\n",
              "\n",
              "  <div class=\"colab-df-container\">\n",
              "    <button class=\"colab-df-convert\" onclick=\"convertToInteractive('df-dff03415-c2a8-4062-8f76-dc90eb00fa34')\"\n",
              "            title=\"Convert this dataframe to an interactive table.\"\n",
              "            style=\"display:none;\">\n",
              "\n",
              "  <svg xmlns=\"http://www.w3.org/2000/svg\" height=\"24px\" viewBox=\"0 -960 960 960\">\n",
              "    <path d=\"M120-120v-720h720v720H120Zm60-500h600v-160H180v160Zm220 220h160v-160H400v160Zm0 220h160v-160H400v160ZM180-400h160v-160H180v160Zm440 0h160v-160H620v160ZM180-180h160v-160H180v160Zm440 0h160v-160H620v160Z\"/>\n",
              "  </svg>\n",
              "    </button>\n",
              "\n",
              "  <style>\n",
              "    .colab-df-container {\n",
              "      display:flex;\n",
              "      gap: 12px;\n",
              "    }\n",
              "\n",
              "    .colab-df-convert {\n",
              "      background-color: #E8F0FE;\n",
              "      border: none;\n",
              "      border-radius: 50%;\n",
              "      cursor: pointer;\n",
              "      display: none;\n",
              "      fill: #1967D2;\n",
              "      height: 32px;\n",
              "      padding: 0 0 0 0;\n",
              "      width: 32px;\n",
              "    }\n",
              "\n",
              "    .colab-df-convert:hover {\n",
              "      background-color: #E2EBFA;\n",
              "      box-shadow: 0px 1px 2px rgba(60, 64, 67, 0.3), 0px 1px 3px 1px rgba(60, 64, 67, 0.15);\n",
              "      fill: #174EA6;\n",
              "    }\n",
              "\n",
              "    .colab-df-buttons div {\n",
              "      margin-bottom: 4px;\n",
              "    }\n",
              "\n",
              "    [theme=dark] .colab-df-convert {\n",
              "      background-color: #3B4455;\n",
              "      fill: #D2E3FC;\n",
              "    }\n",
              "\n",
              "    [theme=dark] .colab-df-convert:hover {\n",
              "      background-color: #434B5C;\n",
              "      box-shadow: 0px 1px 3px 1px rgba(0, 0, 0, 0.15);\n",
              "      filter: drop-shadow(0px 1px 2px rgba(0, 0, 0, 0.3));\n",
              "      fill: #FFFFFF;\n",
              "    }\n",
              "  </style>\n",
              "\n",
              "    <script>\n",
              "      const buttonEl =\n",
              "        document.querySelector('#df-dff03415-c2a8-4062-8f76-dc90eb00fa34 button.colab-df-convert');\n",
              "      buttonEl.style.display =\n",
              "        google.colab.kernel.accessAllowed ? 'block' : 'none';\n",
              "\n",
              "      async function convertToInteractive(key) {\n",
              "        const element = document.querySelector('#df-dff03415-c2a8-4062-8f76-dc90eb00fa34');\n",
              "        const dataTable =\n",
              "          await google.colab.kernel.invokeFunction('convertToInteractive',\n",
              "                                                    [key], {});\n",
              "        if (!dataTable) return;\n",
              "\n",
              "        const docLinkHtml = 'Like what you see? Visit the ' +\n",
              "          '<a target=\"_blank\" href=https://colab.research.google.com/notebooks/data_table.ipynb>data table notebook</a>'\n",
              "          + ' to learn more about interactive tables.';\n",
              "        element.innerHTML = '';\n",
              "        dataTable['output_type'] = 'display_data';\n",
              "        await google.colab.output.renderOutput(dataTable, element);\n",
              "        const docLink = document.createElement('div');\n",
              "        docLink.innerHTML = docLinkHtml;\n",
              "        element.appendChild(docLink);\n",
              "      }\n",
              "    </script>\n",
              "  </div>\n",
              "\n",
              "\n",
              "<div id=\"df-1928b67b-3325-4e21-b0ba-99e6bfc3a893\">\n",
              "  <button class=\"colab-df-quickchart\" onclick=\"quickchart('df-1928b67b-3325-4e21-b0ba-99e6bfc3a893')\"\n",
              "            title=\"Suggest charts\"\n",
              "            style=\"display:none;\">\n",
              "\n",
              "<svg xmlns=\"http://www.w3.org/2000/svg\" height=\"24px\"viewBox=\"0 0 24 24\"\n",
              "     width=\"24px\">\n",
              "    <g>\n",
              "        <path d=\"M19 3H5c-1.1 0-2 .9-2 2v14c0 1.1.9 2 2 2h14c1.1 0 2-.9 2-2V5c0-1.1-.9-2-2-2zM9 17H7v-7h2v7zm4 0h-2V7h2v10zm4 0h-2v-4h2v4z\"/>\n",
              "    </g>\n",
              "</svg>\n",
              "  </button>\n",
              "\n",
              "<style>\n",
              "  .colab-df-quickchart {\n",
              "      --bg-color: #E8F0FE;\n",
              "      --fill-color: #1967D2;\n",
              "      --hover-bg-color: #E2EBFA;\n",
              "      --hover-fill-color: #174EA6;\n",
              "      --disabled-fill-color: #AAA;\n",
              "      --disabled-bg-color: #DDD;\n",
              "  }\n",
              "\n",
              "  [theme=dark] .colab-df-quickchart {\n",
              "      --bg-color: #3B4455;\n",
              "      --fill-color: #D2E3FC;\n",
              "      --hover-bg-color: #434B5C;\n",
              "      --hover-fill-color: #FFFFFF;\n",
              "      --disabled-bg-color: #3B4455;\n",
              "      --disabled-fill-color: #666;\n",
              "  }\n",
              "\n",
              "  .colab-df-quickchart {\n",
              "    background-color: var(--bg-color);\n",
              "    border: none;\n",
              "    border-radius: 50%;\n",
              "    cursor: pointer;\n",
              "    display: none;\n",
              "    fill: var(--fill-color);\n",
              "    height: 32px;\n",
              "    padding: 0;\n",
              "    width: 32px;\n",
              "  }\n",
              "\n",
              "  .colab-df-quickchart:hover {\n",
              "    background-color: var(--hover-bg-color);\n",
              "    box-shadow: 0 1px 2px rgba(60, 64, 67, 0.3), 0 1px 3px 1px rgba(60, 64, 67, 0.15);\n",
              "    fill: var(--button-hover-fill-color);\n",
              "  }\n",
              "\n",
              "  .colab-df-quickchart-complete:disabled,\n",
              "  .colab-df-quickchart-complete:disabled:hover {\n",
              "    background-color: var(--disabled-bg-color);\n",
              "    fill: var(--disabled-fill-color);\n",
              "    box-shadow: none;\n",
              "  }\n",
              "\n",
              "  .colab-df-spinner {\n",
              "    border: 2px solid var(--fill-color);\n",
              "    border-color: transparent;\n",
              "    border-bottom-color: var(--fill-color);\n",
              "    animation:\n",
              "      spin 1s steps(1) infinite;\n",
              "  }\n",
              "\n",
              "  @keyframes spin {\n",
              "    0% {\n",
              "      border-color: transparent;\n",
              "      border-bottom-color: var(--fill-color);\n",
              "      border-left-color: var(--fill-color);\n",
              "    }\n",
              "    20% {\n",
              "      border-color: transparent;\n",
              "      border-left-color: var(--fill-color);\n",
              "      border-top-color: var(--fill-color);\n",
              "    }\n",
              "    30% {\n",
              "      border-color: transparent;\n",
              "      border-left-color: var(--fill-color);\n",
              "      border-top-color: var(--fill-color);\n",
              "      border-right-color: var(--fill-color);\n",
              "    }\n",
              "    40% {\n",
              "      border-color: transparent;\n",
              "      border-right-color: var(--fill-color);\n",
              "      border-top-color: var(--fill-color);\n",
              "    }\n",
              "    60% {\n",
              "      border-color: transparent;\n",
              "      border-right-color: var(--fill-color);\n",
              "    }\n",
              "    80% {\n",
              "      border-color: transparent;\n",
              "      border-right-color: var(--fill-color);\n",
              "      border-bottom-color: var(--fill-color);\n",
              "    }\n",
              "    90% {\n",
              "      border-color: transparent;\n",
              "      border-bottom-color: var(--fill-color);\n",
              "    }\n",
              "  }\n",
              "</style>\n",
              "\n",
              "  <script>\n",
              "    async function quickchart(key) {\n",
              "      const quickchartButtonEl =\n",
              "        document.querySelector('#' + key + ' button');\n",
              "      quickchartButtonEl.disabled = true;  // To prevent multiple clicks.\n",
              "      quickchartButtonEl.classList.add('colab-df-spinner');\n",
              "      try {\n",
              "        const charts = await google.colab.kernel.invokeFunction(\n",
              "            'suggestCharts', [key], {});\n",
              "      } catch (error) {\n",
              "        console.error('Error during call to suggestCharts:', error);\n",
              "      }\n",
              "      quickchartButtonEl.classList.remove('colab-df-spinner');\n",
              "      quickchartButtonEl.classList.add('colab-df-quickchart-complete');\n",
              "    }\n",
              "    (() => {\n",
              "      let quickchartButtonEl =\n",
              "        document.querySelector('#df-1928b67b-3325-4e21-b0ba-99e6bfc3a893 button');\n",
              "      quickchartButtonEl.style.display =\n",
              "        google.colab.kernel.accessAllowed ? 'block' : 'none';\n",
              "    })();\n",
              "  </script>\n",
              "</div>\n",
              "\n",
              "    </div>\n",
              "  </div>\n"
            ],
            "text/plain": [
              "     ID  Year_Birth   Education Marital_Status   Income  Kidhome  Teenhome  \\\n",
              "0  5524        1957  Graduation         Single  58138.0        0         0   \n",
              "1  2174        1954  Graduation         Single  46344.0        1         1   \n",
              "2  4141        1965  Graduation       Together  71613.0        0         0   \n",
              "3  6182        1984  Graduation       Together  26646.0        1         0   \n",
              "4  5324        1981         PhD        Married  58293.0        1         0   \n",
              "\n",
              "  Dt_Customer  Recency  MntWines  ...  NumWebVisitsMonth  AcceptedCmp3  \\\n",
              "0  04-09-2012       58       635  ...                  7             0   \n",
              "1  08-03-2014       38        11  ...                  5             0   \n",
              "2  21-08-2013       26       426  ...                  4             0   \n",
              "3  10-02-2014       26        11  ...                  6             0   \n",
              "4  19-01-2014       94       173  ...                  5             0   \n",
              "\n",
              "   AcceptedCmp4  AcceptedCmp5  AcceptedCmp1  AcceptedCmp2  Complain  \\\n",
              "0             0             0             0             0         0   \n",
              "1             0             0             0             0         0   \n",
              "2             0             0             0             0         0   \n",
              "3             0             0             0             0         0   \n",
              "4             0             0             0             0         0   \n",
              "\n",
              "   Z_CostContact  Z_Revenue  Response  \n",
              "0              3         11         1  \n",
              "1              3         11         0  \n",
              "2              3         11         0  \n",
              "3              3         11         0  \n",
              "4              3         11         0  \n",
              "\n",
              "[5 rows x 29 columns]"
            ]
          },
          "execution_count": 2,
          "metadata": {},
          "output_type": "execute_result"
        }
      ],
      "source": [
        "# Mendapatkan dataset marketing_campaign\n",
        "df = pd.read_csv('marketing_campaign.csv', delimiter=\"\\t\")\n",
        "\n",
        "# Melihat 5 baris pertama dari dataset\n",
        "df.head()"
      ]
    },
    {
      "cell_type": "code",
      "execution_count": null,
      "metadata": {
        "colab": {
          "base_uri": "https://localhost:8080/"
        },
        "id": "plRF0UfJNBnI",
        "outputId": "c131420d-deee-46d1-95fd-ad13772447fd"
      },
      "outputs": [
        {
          "name": "stdout",
          "output_type": "stream",
          "text": [
            "<class 'pandas.core.frame.DataFrame'>\n",
            "RangeIndex: 2240 entries, 0 to 2239\n",
            "Data columns (total 29 columns):\n",
            " #   Column               Non-Null Count  Dtype  \n",
            "---  ------               --------------  -----  \n",
            " 0   ID                   2240 non-null   int64  \n",
            " 1   Year_Birth           2240 non-null   int64  \n",
            " 2   Education            2240 non-null   object \n",
            " 3   Marital_Status       2240 non-null   object \n",
            " 4   Income               2216 non-null   float64\n",
            " 5   Kidhome              2240 non-null   int64  \n",
            " 6   Teenhome             2240 non-null   int64  \n",
            " 7   Dt_Customer          2240 non-null   object \n",
            " 8   Recency              2240 non-null   int64  \n",
            " 9   MntWines             2240 non-null   int64  \n",
            " 10  MntFruits            2240 non-null   int64  \n",
            " 11  MntMeatProducts      2240 non-null   int64  \n",
            " 12  MntFishProducts      2240 non-null   int64  \n",
            " 13  MntSweetProducts     2240 non-null   int64  \n",
            " 14  MntGoldProds         2240 non-null   int64  \n",
            " 15  NumDealsPurchases    2240 non-null   int64  \n",
            " 16  NumWebPurchases      2240 non-null   int64  \n",
            " 17  NumCatalogPurchases  2240 non-null   int64  \n",
            " 18  NumStorePurchases    2240 non-null   int64  \n",
            " 19  NumWebVisitsMonth    2240 non-null   int64  \n",
            " 20  AcceptedCmp3         2240 non-null   int64  \n",
            " 21  AcceptedCmp4         2240 non-null   int64  \n",
            " 22  AcceptedCmp5         2240 non-null   int64  \n",
            " 23  AcceptedCmp1         2240 non-null   int64  \n",
            " 24  AcceptedCmp2         2240 non-null   int64  \n",
            " 25  Complain             2240 non-null   int64  \n",
            " 26  Z_CostContact        2240 non-null   int64  \n",
            " 27  Z_Revenue            2240 non-null   int64  \n",
            " 28  Response             2240 non-null   int64  \n",
            "dtypes: float64(1), int64(25), object(3)\n",
            "memory usage: 507.6+ KB\n"
          ]
        }
      ],
      "source": [
        "# Melihat detail informasi dari setiap kolom pada dataset marketing_campaign\n",
        "df.info()"
      ]
    },
    {
      "cell_type": "code",
      "execution_count": null,
      "metadata": {
        "id": "wH__QwcK4jC-"
      },
      "outputs": [],
      "source": [
        "# Mengisi nilai NaN pada kolom income dengan median\n",
        "df['Income'] = df['Income'].fillna(df['Income'].median())"
      ]
    },
    {
      "cell_type": "code",
      "execution_count": null,
      "metadata": {
        "colab": {
          "base_uri": "https://localhost:8080/"
        },
        "id": "KrOTpla77FmC",
        "outputId": "69313298-4ef6-4db9-e734-bd74b17d082b"
      },
      "outputs": [
        {
          "name": "stdout",
          "output_type": "stream",
          "text": [
            "<class 'pandas.core.frame.DataFrame'>\n",
            "RangeIndex: 2240 entries, 0 to 2239\n",
            "Data columns (total 29 columns):\n",
            " #   Column               Non-Null Count  Dtype  \n",
            "---  ------               --------------  -----  \n",
            " 0   ID                   2240 non-null   int64  \n",
            " 1   Year_Birth           2240 non-null   int64  \n",
            " 2   Education            2240 non-null   object \n",
            " 3   Marital_Status       2240 non-null   object \n",
            " 4   Income               2240 non-null   float64\n",
            " 5   Kidhome              2240 non-null   int64  \n",
            " 6   Teenhome             2240 non-null   int64  \n",
            " 7   Dt_Customer          2240 non-null   object \n",
            " 8   Recency              2240 non-null   int64  \n",
            " 9   MntWines             2240 non-null   int64  \n",
            " 10  MntFruits            2240 non-null   int64  \n",
            " 11  MntMeatProducts      2240 non-null   int64  \n",
            " 12  MntFishProducts      2240 non-null   int64  \n",
            " 13  MntSweetProducts     2240 non-null   int64  \n",
            " 14  MntGoldProds         2240 non-null   int64  \n",
            " 15  NumDealsPurchases    2240 non-null   int64  \n",
            " 16  NumWebPurchases      2240 non-null   int64  \n",
            " 17  NumCatalogPurchases  2240 non-null   int64  \n",
            " 18  NumStorePurchases    2240 non-null   int64  \n",
            " 19  NumWebVisitsMonth    2240 non-null   int64  \n",
            " 20  AcceptedCmp3         2240 non-null   int64  \n",
            " 21  AcceptedCmp4         2240 non-null   int64  \n",
            " 22  AcceptedCmp5         2240 non-null   int64  \n",
            " 23  AcceptedCmp1         2240 non-null   int64  \n",
            " 24  AcceptedCmp2         2240 non-null   int64  \n",
            " 25  Complain             2240 non-null   int64  \n",
            " 26  Z_CostContact        2240 non-null   int64  \n",
            " 27  Z_Revenue            2240 non-null   int64  \n",
            " 28  Response             2240 non-null   int64  \n",
            "dtypes: float64(1), int64(25), object(3)\n",
            "memory usage: 507.6+ KB\n"
          ]
        }
      ],
      "source": [
        "#Melihat kembali apakah nilai NaN sudah terisi pada kolom income dengan nilai median\n",
        "df.info()"
      ]
    },
    {
      "cell_type": "markdown",
      "metadata": {
        "id": "6kC4dwByFsdS"
      },
      "source": [
        "# **Statistik Deskriptif**"
      ]
    },
    {
      "cell_type": "markdown",
      "metadata": {
        "id": "RP0dXBUJrEk5"
      },
      "source": [
        "**Quantiles; Percentiles**"
      ]
    },
    {
      "cell_type": "code",
      "execution_count": null,
      "metadata": {
        "colab": {
          "base_uri": "https://localhost:8080/"
        },
        "id": "DopH-OpYqUd8",
        "outputId": "bc354113-2ea4-4695-a3cd-e715838da6f4"
      },
      "outputs": [
        {
          "name": "stdout",
          "output_type": "stream",
          "text": [
            "Quartile 1: 35538.75\n",
            "Quartile 2: 51381.5\n",
            "Quartile 3: 68289.75\n"
          ]
        }
      ],
      "source": [
        "#Mendapatkan Nilai Quartile 1, Quartile 2, Quartile 3  dari Dataset df pada kolom Income\n",
        "q1 = df['Income'].quantile(0.25)\n",
        "q2 = df['Income'].quantile(0.5)\n",
        "q3 = df['Income'].quantile(0.75)\n",
        "\n",
        "print(f'Quartile 1: {q1}')\n",
        "print(f'Quartile 2: {q2}')\n",
        "print(f'Quartile 3: {q3}')"
      ]
    },
    {
      "cell_type": "code",
      "execution_count": null,
      "metadata": {
        "colab": {
          "base_uri": "https://localhost:8080/"
        },
        "id": "KzPaxyY_pVG5",
        "outputId": "f4d4026a-75e0-4796-f70e-cdd141a75246"
      },
      "outputs": [
        {
          "name": "stdout",
          "output_type": "stream",
          "text": [
            "83926.99999999994 94437.68000000001\n"
          ]
        }
      ],
      "source": [
        "#Mendapatkan Nilai Persentiles dari Dataset df pada kolom Income\n",
        "p95 = df['Income'].quantile(0.95)\n",
        "p99 = df['Income'].quantile(0.99)\n",
        "\n",
        "print(p95, p99)"
      ]
    },
    {
      "cell_type": "markdown",
      "metadata": {
        "id": "xa7kL1tvrzZn"
      },
      "source": [
        "##Central Tendency Measures"
      ]
    },
    {
      "cell_type": "markdown",
      "metadata": {
        "id": "PnJAVoa7rKSk"
      },
      "source": [
        "**Mean, Median, Modus**"
      ]
    },
    {
      "cell_type": "code",
      "execution_count": null,
      "metadata": {
        "colab": {
          "base_uri": "https://localhost:8080/"
        },
        "id": "KJmME3J3blRN",
        "outputId": "c20146c8-3a97-4370-a67c-d0610e3a9984"
      },
      "outputs": [
        {
          "data": {
            "text/plain": [
              "52237.97544642857"
            ]
          },
          "execution_count": 8,
          "metadata": {},
          "output_type": "execute_result"
        }
      ],
      "source": [
        "#Mendapatkan Nilai Mean dari Dataset df pada kolom Income\n",
        "df['Income'].mean()"
      ]
    },
    {
      "cell_type": "code",
      "execution_count": null,
      "metadata": {
        "colab": {
          "base_uri": "https://localhost:8080/"
        },
        "id": "oEI8vGV6hdlf",
        "outputId": "5a48d87e-6caf-4e28-a619-0fc64b80c3d4"
      },
      "outputs": [
        {
          "data": {
            "text/plain": [
              "51381.5"
            ]
          },
          "execution_count": 9,
          "metadata": {},
          "output_type": "execute_result"
        }
      ],
      "source": [
        "#Mendapatkan Nilai Median dari Dataset df pada kolom Income\n",
        "df['Income'].median()"
      ]
    },
    {
      "cell_type": "code",
      "execution_count": null,
      "metadata": {
        "colab": {
          "base_uri": "https://localhost:8080/",
          "height": 35
        },
        "id": "2AVRz81l5EWM",
        "outputId": "52a63294-fbda-4dbe-a5c0-ffa34ebfb5a9"
      },
      "outputs": [
        {
          "data": {
            "application/vnd.google.colaboratory.intrinsic+json": {
              "type": "string"
            },
            "text/plain": [
              "'Graduation'"
            ]
          },
          "execution_count": 10,
          "metadata": {},
          "output_type": "execute_result"
        }
      ],
      "source": [
        "df['Education'].mode()[0]"
      ]
    },
    {
      "cell_type": "code",
      "execution_count": null,
      "metadata": {
        "colab": {
          "base_uri": "https://localhost:8080/"
        },
        "id": "CnAjUc5qZ-Yp",
        "outputId": "ac3e7731-46c6-44da-9416-b79c353a45d9"
      },
      "outputs": [
        {
          "name": "stdout",
          "output_type": "stream",
          "text": [
            "Education\n",
            "Graduation    1127\n",
            "PhD            486\n",
            "Master         370\n",
            "2n Cycle       203\n",
            "Basic           54\n",
            "Name: count, dtype: int64\n"
          ]
        }
      ],
      "source": [
        "#Mendapatkan Nilai Mode dari Dataset df pada kolom Education\n",
        "education_counts = df['Education'].value_counts()\n",
        "print(education_counts)"
      ]
    },
    {
      "cell_type": "markdown",
      "metadata": {
        "id": "cabT2GYOmICS"
      },
      "source": [
        "##Spread Measures"
      ]
    },
    {
      "cell_type": "markdown",
      "metadata": {
        "id": "zfNhyUw4sOxu"
      },
      "source": [
        "**Variance, Standard Deviation**"
      ]
    },
    {
      "cell_type": "code",
      "execution_count": null,
      "metadata": {
        "colab": {
          "base_uri": "https://localhost:8080/"
        },
        "id": "Sxc4Dv86k_P-",
        "outputId": "e346d434-d0c3-4eab-cb0e-aa0a40192ca2"
      },
      "outputs": [
        {
          "data": {
            "text/plain": [
              "626899235.1807307"
            ]
          },
          "execution_count": 12,
          "metadata": {},
          "output_type": "execute_result"
        }
      ],
      "source": [
        "#Mendapatkan Nilai Variance Income pada Dataset marketing_campaign\n",
        "df['Income'].var()"
      ]
    },
    {
      "cell_type": "code",
      "execution_count": null,
      "metadata": {
        "colab": {
          "base_uri": "https://localhost:8080/"
        },
        "id": "obOoqrkzl-wd",
        "outputId": "cf42214a-b7ba-4cdf-f697-0f61abde450b"
      },
      "outputs": [
        {
          "data": {
            "text/plain": [
              "25037.955890621957"
            ]
          },
          "execution_count": 13,
          "metadata": {},
          "output_type": "execute_result"
        }
      ],
      "source": [
        "#Mendapatkan Nilai standar deviasi Income pada Dataset marketing_campaign\n",
        "df['Income'].std()"
      ]
    },
    {
      "cell_type": "markdown",
      "metadata": {
        "id": "fZ6jdix0sXuJ"
      },
      "source": [
        "**Min, Max Income**"
      ]
    },
    {
      "cell_type": "code",
      "execution_count": null,
      "metadata": {
        "colab": {
          "base_uri": "https://localhost:8080/"
        },
        "id": "Gv0_ZPjpsaLc",
        "outputId": "6afb633a-5b25-46d5-dc03-7b03e118a8d4"
      },
      "outputs": [
        {
          "data": {
            "text/plain": [
              "1730.0"
            ]
          },
          "execution_count": 14,
          "metadata": {},
          "output_type": "execute_result"
        }
      ],
      "source": [
        "#Mendapatkan Nilai Minimal Income\n",
        "df['Income'].min()"
      ]
    },
    {
      "cell_type": "code",
      "execution_count": null,
      "metadata": {
        "colab": {
          "base_uri": "https://localhost:8080/"
        },
        "id": "SW1wB7QGsfXv",
        "outputId": "8837eaeb-6c75-4a52-ab9d-4969ea31b7a0"
      },
      "outputs": [
        {
          "data": {
            "text/plain": [
              "666666.0"
            ]
          },
          "execution_count": 15,
          "metadata": {},
          "output_type": "execute_result"
        }
      ],
      "source": [
        "#Mendapatkan Nilai Maximal Income\n",
        "df['Income'].max()"
      ]
    },
    {
      "cell_type": "markdown",
      "metadata": {
        "id": "nsF4F7qG2BqB"
      },
      "source": [
        "## Grafik Histogram dan Boxplot"
      ]
    },
    {
      "cell_type": "code",
      "execution_count": null,
      "metadata": {
        "colab": {
          "base_uri": "https://localhost:8080/",
          "height": 472
        },
        "id": "ilJhv-JINE9-",
        "outputId": "a77b60cf-18ff-4d73-c88c-52eb4abef983"
      },
      "outputs": [
        {
          "data": {
            "image/png": "[encoded data removed]",
            "text/plain": [
              "<Figure size 640x480 with 1 Axes>"
            ]
          },
          "metadata": {},
          "output_type": "display_data"
        }
      ],
      "source": [
        "#Grafik histogram untuk melihat distribusi income\n",
        "sns.histplot(data=df ,x='Income', kde=True)\n",
        "plt.title('Distribusi Income')\n",
        "plt.xlabel('Income')\n",
        "plt.ylabel('Frekuensi')\n",
        "plt.show()"
      ]
    },
    {
      "cell_type": "markdown",
      "metadata": {
        "id": "Gnjz4w1n0_bz"
      },
      "source": [
        "Insight:\n",
        "\n",
        "Grafik Histogram diatas termasuk Right-Skewed atau Positively Skewed.\\\n",
        "Dimana nilai mean lebih besar daripada nilai median."
      ]
    },
    {
      "cell_type": "code",
      "execution_count": null,
      "metadata": {
        "colab": {
          "base_uri": "https://localhost:8080/",
          "height": 433
        },
        "id": "Vc6iuG_WyHCy",
        "outputId": "e91fe922-118b-4e2c-9b46-791fe1952b23"
      },
      "outputs": [
        {
          "data": {
            "image/png": "[encoded data removed]",
            "text/plain": [
              "<Figure size 640x480 with 1 Axes>"
            ]
          },
          "metadata": {},
          "output_type": "display_data"
        }
      ],
      "source": [
        "# Membuat boxplot pendapatan (income)\n",
        "sns.boxplot(y='Income', data=df)\n",
        "plt.title('Boxplot Pendapatan (Income)')\n",
        "plt.ylabel('Income')\n",
        "plt.xticks(rotation=45)\n",
        "plt.show()"
      ]
    },
    {
      "cell_type": "markdown",
      "metadata": {
        "id": "1hYZ2M7W-KVH"
      },
      "source": [
        "Insight:\n",
        "\n",
        "pada Grafik Boxplot terdapat outlier"
      ]
    },
    {
      "cell_type": "code",
      "execution_count": null,
      "metadata": {
        "colab": {
          "base_uri": "https://localhost:8080/",
          "height": 472
        },
        "id": "FT4IlHdrZH37",
        "outputId": "598ee85d-9969-435b-e7c1-d2beb44812bd"
      },
      "outputs": [
        {
          "data": {
            "image/png": "[encoded data removed]",
            "text/plain": [
              "<Figure size 640x480 with 1 Axes>"
            ]
          },
          "metadata": {},
          "output_type": "display_data"
        }
      ],
      "source": [
        "#Grafik countplot untuk melihat distribusi dari education\n",
        "sns.countplot(data=df, x='Education')\n",
        "plt.title('Distribusi Education')\n",
        "plt.xlabel('Education')\n",
        "plt.ylabel('Frekuensi')\n",
        "plt.show()"
      ]
    },
    {
      "cell_type": "markdown",
      "metadata": {
        "id": "hP8ktCAQdKOQ"
      },
      "source": [
        "**Insight**:\n",
        "\n",
        "1. Rata-rata pendapatan 52,237 menunjukan bahwa sebagian besar individu memiliki pendapatan sekitar angka tersebut, tetapi karena standar deviasinya 25,037 cukup besar, ada variasi yang cukup signifikan di sekitar rata-rata tersebut.\n",
        "\n",
        "2. Pada rentang pendapatan min:1,730 dan max: 666,666, ini menunjukan terdapat distribusi pendapatan yang sangat lebar dan kemungkinan adanya outlier disebabkan pendapatan yang sangat tinggi.\n",
        "\n",
        "3. Median/kuartil kedua : 51,381.50, yang dekat dengan rata-rata menunjukkan bahwa distribusi data relatif simetris, meskipun adanya outlier dengan pendapatan tinggi.\n",
        "\n",
        "4. Tingkat Pendidikan terbanyak yaitu pada tingkatan Graduation sebanyak 1127\n"
      ]
    },
    {
      "cell_type": "markdown",
      "metadata": {
        "id": "SmpxXE7OnooO"
      },
      "source": [
        "## **Uji Hipotesis**"
      ]
    },
    {
      "cell_type": "code",
      "execution_count": null,
      "metadata": {
        "colab": {
          "base_uri": "https://localhost:8080/"
        },
        "id": "-uj0X60hzgUn",
        "outputId": "6f7acb39-e5af-4882-e721-0f7d1bdbdc66"
      },
      "outputs": [
        {
          "name": "stdout",
          "output_type": "stream",
          "text": [
            "Education\n",
            "2n Cycle      47688.583744\n",
            "Basic         20306.259259\n",
            "Graduation    52707.305679\n",
            "Master        52896.777027\n",
            "PhD           56096.303498\n",
            "Name: Income, dtype: float64\n"
          ]
        }
      ],
      "source": [
        "# Menghitung rata-rata income berdasarkan tingkat pendidikan\n",
        "rata_rata_pendapatan = df.groupby('Education')['Income'].mean()\n",
        "\n",
        "# Menampilkan hasilnya\n",
        "print(rata_rata_pendapatan)"
      ]
    },
    {
      "cell_type": "code",
      "execution_count": null,
      "metadata": {
        "colab": {
          "base_uri": "https://localhost:8080/",
          "height": 523
        },
        "id": "XkldrWKoVvOE",
        "outputId": "6e8f9828-c10f-4750-a850-1b3295222cb6"
      },
      "outputs": [
        {
          "data": {
            "image/png": "[encoded data removed]",
            "text/plain": [
              "<Figure size 640x480 with 1 Axes>"
            ]
          },
          "metadata": {},
          "output_type": "display_data"
        }
      ],
      "source": [
        "#Grafik barplot untuk melihat rata-rata income berdasarkan tingkat pendidikan\n",
        "sns.barplot(data=df, x='Education', y='Income', estimator='mean', order=df['Education'].value_counts().index)\n",
        "plt.title('Rata-rata Income Berdasarkan Education')\n",
        "plt.xlabel('Education')\n",
        "plt.ylabel('Rata-rata Pendapatan')\n",
        "plt.xticks(rotation=45)\n",
        "plt.show()"
      ]
    },
    {
      "cell_type": "markdown",
      "metadata": {
        "id": "-IuRr3mM0-ot"
      },
      "source": [
        "Insight:\n",
        "\n",
        "- Basic (pendidikan dasar) menunjukkan rata-rata pendapatan yang paling rendah dibandingkan dengan kelompok pendidikan lainnya. Ini mungkin karena individu dengan tingkat pendidikan dasar cenderung memiliki lebih sedikit keterampilan teknis dan pengalaman profesional.\n",
        "- PhD menunjukkan pendapatan tertinggi, yang dapat diharapkan karena tingkat pendidikan ini sering dikaitkan dengan karier yang lebih profesional atau penelitian dengan gaji yang lebih tinggi.\n",
        "- Kelompok Master dan Graduation memiliki rata-rata pendapatan yang hampir setara, yang menunjukkan bahwa individu dengan pendidikan tinggi seperti gelar master atau sarjana dapat memiliki pendapatan yang serupa, tetapi lebih tinggi dibandingkan dengan pendidikan dasar.\n",
        "\n",
        "Kesimpulan :\n",
        "Ada perbedaan rata-rata pendapatan yang signifikan berdasarkan tingkat pendidikan, dengan individu yang memiliki gelar PhD dan Master cenderung memiliki pendapatan yang lebih tinggi dibandingkan dengan mereka yang memiliki tingkat pendidikan lebih rendah."
      ]
    },
    {
      "cell_type": "code",
      "execution_count": null,
      "metadata": {
        "id": "Q0IutyirB88l"
      },
      "outputs": [],
      "source": [
        "# Memisahkan data untuk semua kategori\n",
        "graduation_income = df[df['Education'] == 'Graduation']['Income'].dropna()\n",
        "phd_income = df[df['Education'] == 'PhD']['Income'].dropna()\n",
        "master_income = df[df['Education'] == 'Master']['Income'].dropna()\n",
        "basic_income = df[df['Education'] == 'Basic']['Income'].dropna()\n",
        "cycle_income = df[df['Education'] == '2n Cycle']['Income'].dropna()"
      ]
    },
    {
      "cell_type": "markdown",
      "metadata": {
        "id": "ta1ABORSIBdH"
      },
      "source": [
        "**ANOVA**\n",
        "\n",
        "Untuk menguji apakah ada hubungan yang signifikan antara pendidikan dan pendapatan dalam dataset, kita akan melakukan uji hipotesis yang tepat untuk mengukur hubungan antara dua variabel ini. Mengingat pendidikan adalah variabel kategorikal dan pendapatan adalah variabel numerik, uji yang tepat adalah Uji ANOVA (Analysis of Variance)"
      ]
    },
    {
      "cell_type": "code",
      "execution_count": null,
      "metadata": {
        "colab": {
          "base_uri": "https://localhost:8080/"
        },
        "id": "n730lCR0HUw1",
        "outputId": "a196ec18-19c5-4610-fe0f-7f637d30c544"
      },
      "outputs": [
        {
          "name": "stdout",
          "output_type": "stream",
          "text": [
            "ANOVA Results: f_stat = 27.9665, p_val = 0.0000\n",
            "Ada perbedaan signifikan rata-rata pendapatan antara tingkat pendidikan.\n"
          ]
        }
      ],
      "source": [
        "#membandingkan rata-rata pendapatan dengan tingkat pendidikan (graduation, phd, master, basic, 2n cycle) menggunakan ANOVA (Analysis of Variance)\n",
        "f_stat, p_val = f_oneway(graduation_income, phd_income, master_income, basic_income, cycle_income)\n",
        "\n",
        "print(f\"ANOVA Results: f_stat = {f_stat:.4f}, p_val = {p_val:.4f}\")\n",
        "\n",
        "# Interpretasi hasil\n",
        "if p_val < 0.05:\n",
        "    print(\"Ada perbedaan signifikan rata-rata pendapatan antara tingkat pendidikan.\")\n",
        "else:\n",
        "    print(\"Tidak ada perbedaan signifikan rata-rata pendapatan antara tingkat pendidikan.\")"
      ]
    },
    {
      "cell_type": "markdown",
      "metadata": {
        "id": "FE8Cb5_h4Srb"
      },
      "source": [
        "Insight:\n",
        "\n",
        "**H₀ (Hipotesis Nol)** menyatakan bahwa pendidikan tidak berpengaruh pada pendapatan, atau rata-rata pendapatan antar tingkat pendidikan tidak berbeda.\n",
        "\n",
        "**H₁ (Hipotesis Alternatif)** menyatakan bahwa tingkat pendidikan memiliki pengaruh terhadap pendapatan, yang menyebabkan perbedaan rata-rata pendapatan antar kelompok.\n",
        "\n",
        "- Nilai **f_stat** = 27.9665 menunjukkan bahwa variabilitas rata-rata pendapatan antar kelompok pendidikan lebih besar dibandingkan dengan variabilitas di dalam kelompok. Semakin besar nilai F, semakin besar perbedaan antara kelompok.\n",
        "- Nilai **p_val** = 0.0000 sangat kecil (lebih kecil dari 0.05), yang berarti hasilnya signifikan secara statistik. Sehingga menolak hipotesis nol (H₀).\n",
        "\n",
        "Kesimpulan:\n",
        "Ada perbedaan signifikan rata-rata pendapatan di antara kelompok pendidikan yang dibandingkan. Yang artinya, tingkat pendidikan memengaruhi rata-rata pendapatan secara statistik."
      ]
    },
    {
      "cell_type": "markdown",
      "metadata": {
        "id": "S8fDf1cp-dEt"
      },
      "source": [
        "**Melihat apakah benar ada perbedaan siginfikan rata-rata pendapatan di antara kelompok pendidikan dengan menggunakan T-Test**\n"
      ]
    },
    {
      "cell_type": "markdown",
      "metadata": {
        "id": "771nT9OUIMFm"
      },
      "source": [
        "**T-Test**"
      ]
    },
    {
      "cell_type": "code",
      "execution_count": null,
      "metadata": {
        "colab": {
          "base_uri": "https://localhost:8080/"
        },
        "id": "tBe9V0mXG9S5",
        "outputId": "ef922723-ceb4-47c6-e35b-66adb55699a7"
      },
      "outputs": [
        {
          "name": "stdout",
          "output_type": "stream",
          "text": [
            "T-Test Results: t_stat = 2.7105, p_val = 0.0068\n",
            "Ada perbedaan signifikan rata-rata pendapatan antara Graduation dan PhD.\n"
          ]
        }
      ],
      "source": [
        "# Melakukan t-test untuk membandingkan pendapatan antara \"Graduation\" dan \"PhD\"\n",
        "t_stat, p_val = stats.ttest_ind(phd_income, graduation_income,  equal_var=False)\n",
        "\n",
        "print(f\"T-Test Results: t_stat = {t_stat:.4f}, p_val = {p_val:.4f}\")\n",
        "\n",
        "# Interpretasi hasil\n",
        "if p_val < 0.05:\n",
        "    print(\"Ada perbedaan signifikan rata-rata pendapatan antara Graduation dan PhD.\")\n",
        "else:\n",
        "    print(\"Tidak ada perbedaan signifikan rata-rata pendapatan antara Graduation dan PhD.\")"
      ]
    },
    {
      "cell_type": "markdown",
      "metadata": {
        "id": "oTemnf2273U5"
      },
      "source": [
        "Insight:\n",
        "\n",
        "**Hipotesis Nol (H₀)**: Tidak ada perbedaan rata-rata pendapatan antara individu dengan tingkat pendidikan Graduation dan PhD.\n",
        "\n",
        "**Keputusan:**\n",
        "- Karena **p_val 0.0068** yang artinya kurang dari 0.05, kita menolak hipotesis nol (H₀).\n",
        "- Ada perbedaan signifikan rata-rata pendapatan antara individu dengan pendidikan Graduation dan PhD.\n",
        "\n",
        "**Makna Nilai t-statistik:**\n",
        "Karena **t_stat = 2.7105** yang artinya t_stat > 0, kelompok dengan tingkat pendidikan Graduation memiliki rata-rata pendapatan yang lebih tinggi dibandingkan kelompok dengan pendidikan PhD."
      ]
    },
    {
      "cell_type": "code",
      "execution_count": null,
      "metadata": {
        "colab": {
          "base_uri": "https://localhost:8080/"
        },
        "id": "fUVS3yTBHxI1",
        "outputId": "47a65c85-6b4b-4a80-f1a4-e9816bb20c5b"
      },
      "outputs": [
        {
          "name": "stdout",
          "output_type": "stream",
          "text": [
            "T-Test Results: t_stat = 2.8004, p_val = 0.0054\n",
            "Ada perbedaan signifikan rata-rata pendapatan antara master dan 2n Cycle.\n"
          ]
        }
      ],
      "source": [
        "# Melakukan t-test untuk membandingkan pendapatan antara \"master\" dan \"'2n Cycle'\"\n",
        "t_stat, p_val = stats.ttest_ind(master_income, cycle_income, equal_var=False)\n",
        "\n",
        "print(f\"T-Test Results: t_stat = {t_stat:.4f}, p_val = {p_val:.4f}\")\n",
        "\n",
        "# Interpretasi hasil\n",
        "if p_val < 0.05:\n",
        "    print(\"Ada perbedaan signifikan rata-rata pendapatan antara master dan 2n Cycle.\")\n",
        "else:\n",
        "    print(\"Tidak ada perbedaan signifikan rata-rata pendapatan antara master dan 2n Cycle.\")"
      ]
    },
    {
      "cell_type": "markdown",
      "metadata": {
        "id": "vHWsAdix-PvE"
      },
      "source": [
        "Insight:\n",
        "\n",
        "**Hipotesis Nol (H₀)**: Tidak ada perbedaan rata-rata pendapatan antara individu dengan tingkat pendidikan Master dan 2n Cycle.\n",
        "\n",
        "**Keputusan:**\n",
        "- Karena **p_val 0.0000** yang artinya kurang dari 0.05, kita menolak hipotesis nol (H₀).\n",
        "- Ada perbedaan signifikan rata-rata pendapatan antara individu dengan pendidikan Master dan 2n Cycle.\n",
        "\n",
        "**Makna Nilai t-statistik:**\n",
        "Karena **t_stat = 2.8004** yang artinya t_stat > 0, kelompok dengan tingkat pendidikan master memiliki rata-rata pendapatan yang lebih tinggi dibandingkan kelompok dengan pendidikan 2n cycle."
      ]
    },
    {
      "cell_type": "markdown",
      "metadata": {
        "id": "L_s37eTOWf3Z"
      },
      "source": [
        "## Kesimpulan akhir:\n",
        "\n",
        "1. Distribusi Pendapatan\n",
        "- Rata-rata pendapatan: 52,237 dengan median: 51,381.50 menunjukkan bahwa data relatif simetris. Namun, adanya nilai pendapatan minimum (1,730) dan maksimum (666,666) menunjukkan variasi yang sangat besar, kemungkinan disebabkan oleh outlier (pendapatan sangat tinggi).\n",
        "- Standar deviasi: 25,037 menunjukkan variasi yang signifikan di sekitar rata-rata.\n",
        "\n",
        "2. Hubungan Pendidikan dan Pendapatan\n",
        "  - Tingkat pendidikan Graduation memiliki jumlah individu terbanyak (1,127), sementara Basic memiliki individu paling sedikit (54).\\\n",
        "  Rata-rata pendapatan per tingkat pendidikan:\n",
        "    - Basic: Pendapatan rata-rata paling rendah.\n",
        "    - PhD: Pendapatan rata-rata tertinggi, yang sejalan dengan ekspektasi karena PhD biasanya terkait dengan karier yang lebih profesional atau penelitian.\n",
        "    - Graduation dan Master: Rata-rata pendapatan yang hampir sama, mencerminkan potensi penghasilan yang baik untuk lulusan pendidikan tinggi.\n",
        "\n",
        "\n",
        "3. Hasil Uji Hipotesis: Pendidikan vs Pendapatan\n",
        "\n",
        "  **ANOVA Test:**\n",
        "    - Nilai f_stat = 27.9665 dan p_val = 0.0000 menunjukkan adanya perbedaan signifikan rata-rata pendapatan antar tingkat pendidikan.\n",
        "    - Dengan demikian, hipotesis nol (H₀) yang menyatakan tidak ada pengaruh pendidikan terhadap pendapatan ditolak, dan hipotesis alternatif (H₁) diterima.\n",
        "    - Kesimpulan: Tingkat pendidikan memiliki pengaruh signifikan terhadap rata-rata pendapatan.\n",
        "\n",
        "4. Perbandingan Pendapatan Spesifik dengan T-Test\n",
        "\n",
        "    Graduation vs PhD:\n",
        "    - Nilai t_stat = -2.7105 dan p_val = 0.0068 menunjukkan bahwa terdapat perbedaan signifikan secara statistik antara rata-rata pendapatan individu dengan tingkat pendidikan Graduation dan PhD.\n",
        "    - Interpretasi: Pendidikan PhD memiliki rata-rata pendapatan lebih tinggi dibandingkan Graduation.\n",
        "\n",
        "   Master vs 2n Cycle:\n",
        "    - Nilai t_stat = 2.8004 dan p_val = 0.0000 menunjukkan bahwa terdapat perbedaan signifikan secara statistik antara rata-rata pendapatan individu dengan tingkat pendidikan Master dan 2n Cycle.\n",
        "    - Interpretasi: Pendidikan Master memiliki rata-rata pendapatan jauh lebih tinggi dibandingkan 2n Cycle\n",
        "\n",
        "\n",
        "  **Pendidikan memiliki dampak signifikan terhadap pendapatan, dengan tingkat pendidikan yang lebih tinggi (PhD, Master) cenderung menghasilkan pendapatan yang lebih tinggi dibandingkan tingkat pendidikan yang lebih rendah (Basic, Graduation).**\n"
      ]
    }
  ],
  "metadata": {
    "colab": {
      "provenance": []
    },
    "kernelspec": {
      "display_name": "Python 3",
      "name": "python3"
    },
    "language_info": {
      "name": "python"
    }
  },
  "nbformat": 4,
  "nbformat_minor": 0
}
